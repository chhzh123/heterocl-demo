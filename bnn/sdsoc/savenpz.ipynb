{
 "cells": [
  {
   "cell_type": "code",
   "execution_count": null,
   "metadata": {},
   "outputs": [],
   "source": [
    "import numpy as np\n",
    "params = {\n",
    "    \"w_conv1\": np.loadtxt(\"data/weight_0b\",delimiter=\",\").astype(np.int).reshape((1,64,3,3)).transpose(1,0,2,3), # 576\n",
    "    \"gamma1\" : np.loadtxt(\"data/weight_1p\",delimiter=\",\").astype(np.float),\n",
    "    \"beta1\"  : np.loadtxt(\"data/weight_2p\",delimiter=\",\").astype(np.float),\n",
    "    \"miu1\"   : np.loadtxt(\"data/weight_3p\",delimiter=\",\").astype(np.float),\n",
    "    \"sigma1\" : np.loadtxt(\"data/weight_4p\",delimiter=\",\").astype(np.float),\n",
    "    \"w_conv2\": np.loadtxt(\"data/weight_5b\",delimiter=\",\").astype(np.int).reshape((64,128,3,3)).transpose(1,0,2,3),\n",
    "    \"gamma2\" : np.loadtxt(\"data/weight_6p\",delimiter=\",\").astype(np.float),\n",
    "    \"beta2\"  : np.loadtxt(\"data/weight_7p\",delimiter=\",\").astype(np.float),\n",
    "    \"miu2\"   : np.loadtxt(\"data/weight_8p\",delimiter=\",\").astype(np.float),\n",
    "    \"sigma2\" : np.loadtxt(\"data/weight_9p\",delimiter=\",\").astype(np.float),\n",
    "    \"w_fc1\"  : np.loadtxt(\"data/weight_10b\",delimiter=\",\").astype(np.int).reshape((2048,512)).T,\n",
    "    \"b_fc1\"  : np.loadtxt(\"data/weight_11p\",delimiter=\",\").astype(np.float),\n",
    "    \"w_fc2\"  : np.loadtxt(\"data/weight_12b\",delimiter=\",\").astype(np.int).reshape((512,10)).T,\n",
    "    \"b_fc2\"  : np.loadtxt(\"data/weight_13p\",delimiter=\",\").astype(np.float)\n",
    "}\n",
    "np.savez(\"data/bnn-sdsoc.params\",**params)"
   ]
  },
  {
   "cell_type": "code",
   "execution_count": null,
   "metadata": {},
   "outputs": [],
   "source": [
    "data = {\n",
    "    \"images\" : np.loadtxt(\"data/test_b.dat\").astype(np.int).reshape((-1,1,16,16)),\n",
    "    \"labels\" : np.loadtxt(\"data/label.dat\").astype(np.int)\n",
    "}\n",
    "np.savez(\"data/bnn-sdsoc.data\",**data)"
   ]
  },
  {
   "cell_type": "code",
   "execution_count": null,
   "metadata": {},
   "outputs": [],
   "source": []
  }
 ],
 "metadata": {
  "kernelspec": {
   "display_name": "Python 3",
   "language": "python",
   "name": "python3"
  },
  "language_info": {
   "codemirror_mode": {
    "name": "ipython",
    "version": 3
   },
   "file_extension": ".py",
   "mimetype": "text/x-python",
   "name": "python",
   "nbconvert_exporter": "python",
   "pygments_lexer": "ipython3",
   "version": "3.7.6"
  }
 },
 "nbformat": 4,
 "nbformat_minor": 4
}
